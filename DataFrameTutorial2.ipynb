{
 "cells": [
  {
   "cell_type": "code",
   "execution_count": 12,
   "id": "74f2ac5e",
   "metadata": {},
   "outputs": [
    {
     "data": {
      "text/plain": [
       "ses: org.apache.spark.sql.SparkSession.type = org.apache.spark.sql.SparkSession$@60d2aeb2\r\n",
       "sparkSession: org.apache.spark.sql.SparkSession = org.apache.spark.sql.SparkSession@6943d823\r\n"
      ]
     },
     "execution_count": 12,
     "metadata": {},
     "output_type": "execute_result"
    }
   ],
   "source": [
    "val ses=org.apache.spark.sql.SparkSession\n",
    "val sparkSession= ses.builder().master(\"master1\").appName(\"spark2\").getOrCreate()"
   ]
  },
  {
   "cell_type": "code",
   "execution_count": 2,
   "id": "4761becc",
   "metadata": {},
   "outputs": [
    {
     "data": {
      "text/plain": [
       "import spark.implicits._\r\n",
       "columns: Seq[String] = List(language, users_count)\r\n",
       "data: Seq[(String, String)] = List((Java,20000), (Python,100000), (Scala,3000))\r\n"
      ]
     },
     "execution_count": 2,
     "metadata": {},
     "output_type": "execute_result"
    }
   ],
   "source": [
    "import spark.implicits._\n",
    "val columns = Seq(\"language\",\"users_count\")\n",
    "val data = Seq((\"Java\", \"20000\"), (\"Python\", \"100000\"), (\"Scala\", \"3000\"))"
   ]
  },
  {
   "cell_type": "markdown",
   "id": "61cdafca",
   "metadata": {},
   "source": [
    "## creating RDD"
   ]
  },
  {
   "cell_type": "code",
   "execution_count": 13,
   "id": "9e5c954a",
   "metadata": {},
   "outputs": [
    {
     "data": {
      "text/plain": [
       "arr: Array[Int] = Array(1, 2, 3, 4, 5, 6)\r\n",
       "arrRDD: org.apache.spark.rdd.RDD[Int] = ParallelCollectionRDD[22] at parallelize at <console>:31\r\n"
      ]
     },
     "execution_count": 13,
     "metadata": {},
     "output_type": "execute_result"
    }
   ],
   "source": [
    "val arr=Array(1,2,3,4,5,6)\n",
    "val arrRDD= spark.sparkContext.parallelize(arr)"
   ]
  },
  {
   "cell_type": "markdown",
   "id": "1922a3bd",
   "metadata": {},
   "source": [
    "## converting rdd to dataFrame"
   ]
  },
  {
   "cell_type": "code",
   "execution_count": 4,
   "id": "44e81e6d",
   "metadata": {},
   "outputs": [
    {
     "data": {
      "text/plain": [
       "arrDataFrame: org.apache.spark.sql.DataFrame = [value: int]\r\n"
      ]
     },
     "execution_count": 4,
     "metadata": {},
     "output_type": "execute_result"
    }
   ],
   "source": [
    "val arrDataFrame=arrRDD.toDF()"
   ]
  },
  {
   "cell_type": "code",
   "execution_count": 5,
   "id": "28f74e6a",
   "metadata": {},
   "outputs": [
    {
     "name": "stdout",
     "output_type": "stream",
     "text": [
      "+-----+\n",
      "|value|\n",
      "+-----+\n",
      "|    1|\n",
      "|    2|\n",
      "|    3|\n",
      "|    4|\n",
      "|    5|\n",
      "|    6|\n",
      "+-----+\n",
      "\n"
     ]
    }
   ],
   "source": [
    "arrDataFrame.show()"
   ]
  },
  {
   "cell_type": "markdown",
   "id": "2ca66609",
   "metadata": {},
   "source": [
    "## Create Dataframe"
   ]
  },
  {
   "cell_type": "code",
   "execution_count": 14,
   "id": "76349f3f",
   "metadata": {},
   "outputs": [
    {
     "data": {
      "text/plain": [
       "df2: org.apache.spark.sql.DataFrame = [fixed acidity: double, volatile acidity: double ... 10 more fields]\r\n"
      ]
     },
     "execution_count": 14,
     "metadata": {},
     "output_type": "execute_result"
    }
   ],
   "source": [
    "val df2= sparkSession.read.options(Map(\"inferSchema\"->\"true\",\"delimiter\"->\",\",\"header\"->\"true\")).csv(\"E:/dataset/normalClassification/winequality-red.csv\")"
   ]
  },
  {
   "cell_type": "code",
   "execution_count": 7,
   "id": "7a3fabb0",
   "metadata": {},
   "outputs": [
    {
     "name": "stdout",
     "output_type": "stream",
     "text": [
      "+-------------+----------------+-----------+--------------+-------------------+-------------------+--------------------+-------+----+---------+-------+-------+\n",
      "|fixed acidity|volatile acidity|citric acid|residual sugar|          chlorides|free sulfur dioxide|total sulfur dioxide|density|  pH|sulphates|alcohol|quality|\n",
      "+-------------+----------------+-----------+--------------+-------------------+-------------------+--------------------+-------+----+---------+-------+-------+\n",
      "|          7.4|             0.7|        0.0|           1.9|              0.076|               11.0|                34.0| 0.9978|3.51|     0.56|    9.4|      5|\n",
      "|          7.8|            0.88|        0.0|           2.6|              0.098|               25.0|                67.0| 0.9968| 3.2|     0.68|    9.8|      5|\n",
      "|          7.8|            0.76|       0.04|           2.3|              0.092|               15.0|                54.0|  0.997|3.26|     0.65|    9.8|      5|\n",
      "|         11.2|            0.28|       0.56|           1.9|              0.075|               17.0|                60.0|  0.998|3.16|     0.58|    9.8|      6|\n",
      "|          7.4|             0.7|        0.0|           1.9|              0.076|               11.0|                34.0| 0.9978|3.51|     0.56|    9.4|      5|\n",
      "|          7.4|            0.66|        0.0|           1.8|              0.075|               13.0|                40.0| 0.9978|3.51|     0.56|    9.4|      5|\n",
      "|          7.9|             0.6|       0.06|           1.6|              0.069|               15.0|                59.0| 0.9964| 3.3|     0.46|    9.4|      5|\n",
      "|          7.3|            0.65|        0.0|           1.2|              0.065|               15.0|                21.0| 0.9946|3.39|     0.47|   10.0|      7|\n",
      "|          7.8|            0.58|       0.02|           2.0|              0.073|                9.0|                18.0| 0.9968|3.36|     0.57|    9.5|      7|\n",
      "|          7.5|             0.5|       0.36|           6.1|              0.071|               17.0|               102.0| 0.9978|3.35|      0.8|   10.5|      5|\n",
      "|          6.7|            0.58|       0.08|           1.8|0.09699999999999999|               15.0|                65.0| 0.9959|3.28|     0.54|    9.2|      5|\n",
      "|          7.5|             0.5|       0.36|           6.1|              0.071|               17.0|               102.0| 0.9978|3.35|      0.8|   10.5|      5|\n",
      "|          5.6|           0.615|        0.0|           1.6|0.08900000000000001|               16.0|                59.0| 0.9943|3.58|     0.52|    9.9|      5|\n",
      "|          7.8|            0.61|       0.29|           1.6|              0.114|                9.0|                29.0| 0.9974|3.26|     1.56|    9.1|      5|\n",
      "|          8.9|            0.62|       0.18|           3.8|0.17600000000000002|               52.0|               145.0| 0.9986|3.16|     0.88|    9.2|      5|\n",
      "|          8.9|            0.62|       0.19|           3.9|               0.17|               51.0|               148.0| 0.9986|3.17|     0.93|    9.2|      5|\n",
      "|          8.5|            0.28|       0.56|           1.8|              0.092|               35.0|               103.0| 0.9969| 3.3|     0.75|   10.5|      7|\n",
      "|          8.1|            0.56|       0.28|           1.7|              0.368|               16.0|                56.0| 0.9968|3.11|     1.28|    9.3|      5|\n",
      "|          7.4|            0.59|       0.08|           4.4|              0.086|                6.0|                29.0| 0.9974|3.38|      0.5|    9.0|      4|\n",
      "|          7.9|            0.32|       0.51|           1.8|              0.341|               17.0|                56.0| 0.9969|3.04|     1.08|    9.2|      6|\n",
      "+-------------+----------------+-----------+--------------+-------------------+-------------------+--------------------+-------+----+---------+-------+-------+\n",
      "only showing top 20 rows\n",
      "\n"
     ]
    }
   ],
   "source": [
    "df2.show()"
   ]
  },
  {
   "cell_type": "markdown",
   "id": "09d68975",
   "metadata": {},
   "source": [
    "## Select "
   ]
  },
  {
   "cell_type": "code",
   "execution_count": 8,
   "id": "4fba9643",
   "metadata": {},
   "outputs": [
    {
     "name": "stdout",
     "output_type": "stream",
     "text": [
      "+-----------+-------------------+\n",
      "|citric acid|          chlorides|\n",
      "+-----------+-------------------+\n",
      "|        0.0|              0.076|\n",
      "|        0.0|              0.098|\n",
      "|       0.04|              0.092|\n",
      "|       0.56|              0.075|\n",
      "|        0.0|              0.076|\n",
      "|        0.0|              0.075|\n",
      "|       0.06|              0.069|\n",
      "|        0.0|              0.065|\n",
      "|       0.02|              0.073|\n",
      "|       0.36|              0.071|\n",
      "|       0.08|0.09699999999999999|\n",
      "|       0.36|              0.071|\n",
      "|        0.0|0.08900000000000001|\n",
      "|       0.29|              0.114|\n",
      "|       0.18|0.17600000000000002|\n",
      "|       0.19|               0.17|\n",
      "|       0.56|              0.092|\n",
      "|       0.28|              0.368|\n",
      "|       0.08|              0.086|\n",
      "|       0.51|              0.341|\n",
      "+-----------+-------------------+\n",
      "only showing top 20 rows\n",
      "\n"
     ]
    }
   ],
   "source": [
    "df2.select(\"citric acid\",\"chlorides\").show()"
   ]
  },
  {
   "cell_type": "code",
   "execution_count": 9,
   "id": "0605a6ea",
   "metadata": {},
   "outputs": [
    {
     "data": {
      "text/plain": [
       "res3: org.apache.spark.sql.DataFrame = [citric acid: double, chlorides: double]\r\n"
      ]
     },
     "execution_count": 9,
     "metadata": {},
     "output_type": "execute_result"
    }
   ],
   "source": [
    "df2.select($\"citric acid\",$\"chlorides\")"
   ]
  },
  {
   "cell_type": "code",
   "execution_count": 10,
   "id": "4ee8a6ca",
   "metadata": {},
   "outputs": [
    {
     "data": {
      "text/plain": [
       "import org.apache.spark.sql.functions.expr\r\n"
      ]
     },
     "execution_count": 10,
     "metadata": {},
     "output_type": "execute_result"
    }
   ],
   "source": [
    "import org.apache.spark.sql.functions.{expr}"
   ]
  },
  {
   "cell_type": "code",
   "execution_count": 11,
   "id": "c7b0a61d",
   "metadata": {},
   "outputs": [
    {
     "ename": "<console>",
     "evalue": "32: error: not found: value density\r",
     "output_type": "error",
     "traceback": [
      "<console>:32: error: not found: value density\r",
      "       df2.select($\"density\",$\"chlorides\",expr(concat(density,chlorides)name)).show()\r",
      "                                                      ^\r",
      "<console>:32: error: not found: value chlorides\r",
      "       df2.select($\"density\",$\"chlorides\",expr(concat(density,chlorides)name)).show()\r",
      "                                                              ^\r",
      ""
     ]
    }
   ],
   "source": [
    "df2.select($\"density\",$\"chlorides\",expr(concat(density,chlorides)name)).show()"
   ]
  },
  {
   "cell_type": "code",
   "execution_count": null,
   "id": "079f826e",
   "metadata": {},
   "outputs": [],
   "source": [
    "val columnsName=df2.columns\n",
    "println(columnsName)"
   ]
  },
  {
   "cell_type": "code",
   "execution_count": null,
   "id": "9983399d",
   "metadata": {},
   "outputs": [],
   "source": [
    "df2.withColumn(\"fixed acidity\",col(\"fixed acidity\")*100)\n",
    ".withColumn(\"chlorides\",col(\"chlorides\")-1000).show()\n"
   ]
  },
  {
   "cell_type": "markdown",
   "id": "89402c7e",
   "metadata": {},
   "source": [
    "## Add new column "
   ]
  },
  {
   "cell_type": "code",
   "execution_count": null,
   "id": "5f8759bd",
   "metadata": {},
   "outputs": [],
   "source": [
    "val df3=df2.withColumn(\"xxxxxx\",col(\"citric acid\")*100).show()"
   ]
  },
  {
   "cell_type": "code",
   "execution_count": null,
   "id": "4719a257",
   "metadata": {},
   "outputs": [],
   "source": [
    "val test=df3.withColumn(\"residual sugar\",)"
   ]
  },
  {
   "cell_type": "markdown",
   "id": "9dfac4f9",
   "metadata": {},
   "source": [
    "## Filter a dataframe"
   ]
  },
  {
   "cell_type": "code",
   "execution_count": null,
   "id": "88a3f0ac",
   "metadata": {},
   "outputs": [],
   "source": [
    "val m=df2.where($\"citric acid\" >0.36).filter($\"residual sugar\">1.8).select(\"total sulfur dioxide\").show()"
   ]
  },
  {
   "cell_type": "markdown",
   "id": "31f5fe5c",
   "metadata": {},
   "source": [
    "## Handling missing Value"
   ]
  },
  {
   "cell_type": "code",
   "execution_count": 16,
   "id": "edc743b6",
   "metadata": {},
   "outputs": [
    {
     "data": {
      "text/plain": [
       "values: Long = 1599\r\n"
      ]
     },
     "execution_count": 16,
     "metadata": {},
     "output_type": "execute_result"
    }
   ],
   "source": [
    "val values=df2.count()"
   ]
  },
  {
   "cell_type": "code",
   "execution_count": 17,
   "id": "db296033",
   "metadata": {},
   "outputs": [
    {
     "data": {
      "text/plain": [
       "missinValueCount: Long = 0\r\n"
      ]
     },
     "execution_count": 17,
     "metadata": {},
     "output_type": "execute_result"
    }
   ],
   "source": [
    "val missinValueCount=df2.where($\"residual sugar\"===null).count()"
   ]
  },
  {
   "cell_type": "code",
   "execution_count": null,
   "id": "153540d5",
   "metadata": {},
   "outputs": [],
   "source": [
    "val dropNa=df2.na.drop(how=\"all\")"
   ]
  },
  {
   "cell_type": "code",
   "execution_count": 18,
   "id": "6685016a",
   "metadata": {},
   "outputs": [
    {
     "data": {
      "text/plain": [
       "fillNa: org.apache.spark.sql.DataFrame = [fixed acidity: double, volatile acidity: double ... 10 more fields]\r\n"
      ]
     },
     "execution_count": 18,
     "metadata": {},
     "output_type": "execute_result"
    }
   ],
   "source": [
    "val fillNa=df2.na.fill(\"1\")"
   ]
  },
  {
   "cell_type": "markdown",
   "id": "3ab3fe0a",
   "metadata": {},
   "source": [
    "## Sorting values"
   ]
  },
  {
   "cell_type": "code",
   "execution_count": 19,
   "id": "f1621895",
   "metadata": {},
   "outputs": [
    {
     "name": "stdout",
     "output_type": "stream",
     "text": [
      "+-----------+-------------------+\n",
      "|citric acid|free sulfur dioxide|\n",
      "+-----------+-------------------+\n",
      "|       0.28|               36.0|\n",
      "|       0.28|               36.0|\n",
      "|       0.02|               18.0|\n",
      "|       0.44|               21.0|\n",
      "|       0.14|               15.0|\n",
      "|       0.49|                8.0|\n",
      "|       0.04|                4.0|\n",
      "|        0.6|                5.0|\n",
      "|       0.66|               15.0|\n",
      "|        0.0|               16.0|\n",
      "|       0.39|                4.0|\n",
      "|        0.0|               17.0|\n",
      "|        0.0|               16.0|\n",
      "|        0.0|                3.0|\n",
      "|       0.44|                6.0|\n",
      "|       0.18|               16.0|\n",
      "|       0.11|                6.0|\n",
      "|        0.0|               14.0|\n",
      "|       0.23|               16.0|\n",
      "|        0.4|               25.0|\n",
      "+-----------+-------------------+\n",
      "only showing top 20 rows\n",
      "\n"
     ]
    },
    {
     "data": {
      "text/plain": [
       "sortData: Unit = ()\r\n"
      ]
     },
     "execution_count": 19,
     "metadata": {},
     "output_type": "execute_result"
    }
   ],
   "source": [
    "val sortData=df2.na.drop(\"any\")\n",
    ".sort(expr(\"chlorides\")).select(\"citric acid\",\"free sulfur dioxide\").show()"
   ]
  },
  {
   "cell_type": "code",
   "execution_count": null,
   "id": "e3fb435b",
   "metadata": {},
   "outputs": [],
   "source": []
  }
 ],
 "metadata": {
  "kernelspec": {
   "display_name": "spylon-kernel",
   "language": "scala",
   "name": "spylon-kernel"
  },
  "language_info": {
   "codemirror_mode": "text/x-scala",
   "file_extension": ".scala",
   "help_links": [
    {
     "text": "MetaKernel Magics",
     "url": "https://metakernel.readthedocs.io/en/latest/source/README.html"
    }
   ],
   "mimetype": "text/x-scala",
   "name": "scala",
   "pygments_lexer": "scala",
   "version": "0.4.1"
  }
 },
 "nbformat": 4,
 "nbformat_minor": 5
}
